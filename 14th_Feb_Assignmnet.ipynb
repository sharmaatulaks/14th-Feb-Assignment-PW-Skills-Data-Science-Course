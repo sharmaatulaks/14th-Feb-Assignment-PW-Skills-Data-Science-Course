{
 "cells": [
  {
   "cell_type": "markdown",
   "id": "d16c5425-eb55-4fbd-8af0-c2819863d808",
   "metadata": {},
   "source": [
    "# <Center> 14th Feb Assignnment"
   ]
  },
  {
   "cell_type": "markdown",
   "id": "05a4c8c2-f09e-49d4-aaff-c9b310d6911f",
   "metadata": {},
   "source": [
    "# Q1:-  What is multithreading in python? Why is it used? Name the module used to handle threads in python"
   ]
  },
  {
   "cell_type": "markdown",
   "id": "12773b4c-b453-44fa-9ede-ef8828ca0d94",
   "metadata": {},
   "source": [
    "Ans 1:- Multithreading in Python refers to the ability to run multiple threads (or sequences of code execution) concurrently within a single program. This means that instead of running one sequence of instructions at a time, the program can run multiple sequences of instructions at the same time, allowing for potentially faster and more efficient code execution.\n",
    "\n",
    "Multithreading is used when a program needs to perform multiple tasks simultaneously, in handling user input and in also performing complex calculations or running network requests in the background. It is also used to improve the performance of CPU-intensive tasks by allowing them to run on multiple CPU cores simultaneously.\n",
    "\n",
    "The Threading module used to handle threads in python. This module provides a simple way to create and manage threads in Python, allowing developers to easily create new threads, start and stop them, and synchronize their execution."
   ]
  },
  {
   "cell_type": "markdown",
   "id": "bc8d480f-0237-4681-a377-d9d800321af1",
   "metadata": {},
   "source": [
    "# Q2:-  Why threading module used? Write the use of the following functions\n",
    "\n",
    "1.activeCount()\n",
    "\n",
    "2.currentThread()\n",
    "\n",
    "3.enumerate()"
   ]
  },
  {
   "cell_type": "markdown",
   "id": "29514f00-5d2a-46c0-bcf1-b4f9b96694df",
   "metadata": {},
   "source": [
    "Ans 2:- The threading module is used in Python to create and manage threads. It provides a simple way to write concurrent code that can perform multiple tasks at the same time. \n",
    "\n",
    "* activeCount(): This function returns the number of active threads in the current thread's thread group. It can be used to check how many threads are currently running in a program.\n",
    "\n",
    "* currentThread(): This function returns a reference to the current thread object. It can be used to access properties of the current thread, such as its name, ID, or state.\n",
    "\n",
    "* enumerate(): This function returns a list of all Thread objects that are currently alive. It can be used to iterate over all running threads and perform operations on them, such as joining them or checking their status.\n",
    "\n",
    "These functions can be very useful when working with multiple threads in Python, as they provide a way to manage and monitor thread execution and ensure that concurrent code is running smoothly."
   ]
  },
  {
   "cell_type": "markdown",
   "id": "67c915f5-0f06-4103-8eee-783a1d54904e",
   "metadata": {},
   "source": [
    "# Q3:Explain the following functions\n",
    "\n",
    "1. run() \n",
    "2. start() \n",
    "3. join() \n",
    "4. isAlive()"
   ]
  },
  {
   "cell_type": "markdown",
   "id": "87635919-3013-4e54-93a3-9479e59716f5",
   "metadata": {},
   "source": [
    "Ans 3:- The above functions are from Thread class in Python threading module\n",
    "\n",
    "1. run(): This method is used to define the code that will be executed by a thread. It should be overridden in a subclass of the Thread class and contains the code that the thread will run when it is started.\n",
    "\n",
    "2. start(): This method is used to start a thread. It creates a new thread of execution and calls the thread's run() method, which contains the code that the thread will execute. Once started, the thread runs independently of the main program and can perform its own tasks in parallel.\n",
    "\n",
    "3. join(): This method is used to wait for a thread to finish executing. When called on a thread object, it causes the calling thread to block until the thread being joined completes its work. This can be useful for synchronizing the execution of threads and ensuring that they complete their work in a specific order.\n",
    "\n",
    "4. isAlive(): This method is used to check whether a thread is still running or has completed its execution. When called on a thread object, it returns True if the thread is still executing, and False if the thread has finished. This can be useful for checking the status of a thread and taking appropriate action based on its state."
   ]
  },
  {
   "cell_type": "markdown",
   "id": "92ea7ee0-e83c-48f2-9124-4c0dc2b33bf1",
   "metadata": {},
   "source": [
    " # Q4:-  Write a python program to create two threads. Thread one must print the list of squares and thread two must print the list of cubes"
   ]
  },
  {
   "cell_type": "code",
   "execution_count": 15,
   "id": "161e7c11-a553-4b58-9a4d-67b4022e1c48",
   "metadata": {},
   "outputs": [
    {
     "name": "stdout",
     "output_type": "stream",
     "text": [
      "1 squared is 1\n",
      "2 squared is 4\n",
      "3 squared is 9\n",
      "4 squared is 16\n",
      "1 cubed is 1\n",
      "2 cubed is 8\n",
      "3 cubed is 27\n",
      "4 cubed is 64\n"
     ]
    }
   ],
   "source": [
    "# program\n",
    "\n",
    "import threading\n",
    "\n",
    "def squares():\n",
    "    for i in range(1,5):\n",
    "        print(f\"{i} squared is {i*i}\")\n",
    "\n",
    "def cubes():\n",
    "    for i in range(1,5):\n",
    "        print(f\"{i} cubed is {i*i*i}\")\n",
    "\n",
    "# Create the threads\n",
    "thred1 = threading.Thread(target = squares)\n",
    "thred2 = threading.Thread(target = cubes )\n",
    "\n",
    "# Start the threads\n",
    "thred1.start()\n",
    "thred2.start()\n",
    "\n",
    "# Wait for the threads to finish\n",
    "#t1.join()\n",
    "#t2.join()"
   ]
  },
  {
   "cell_type": "markdown",
   "id": "f3c8a3f5-e32e-40bd-8cd7-e5d754ec859f",
   "metadata": {},
   "source": [
    "# Q5:- State advantages and disadvantages of multithreading"
   ]
  },
  {
   "cell_type": "markdown",
   "id": "a7276136-d066-482c-b9e7-382cb023394b",
   "metadata": {},
   "source": [
    "Ans 5:- \n",
    "\n",
    "* Advantages of Multithreading:\n",
    "\n",
    "Increased Performance: Multithreading allows a program to perform multiple tasks simultaneously, thereby increasing its overall performance. By executing multiple threads concurrently, the program can achieve faster response times, improved throughput, and better utilization of available resources.\n",
    "\n",
    "Resource Sharing: Multithreading allows multiple threads to share resources such as memory, CPU time, and input/output devices. This reduces the overhead of creating and maintaining separate processes for each task, thereby improving efficiency and reducing costs.\n",
    "\n",
    "Responsiveness: Multithreading can improve the responsiveness of user interfaces and other interactive applications by allowing them to continue processing user input while performing other tasks in the background.\n",
    "\n",
    "Scalability: Multithreading makes it easier to scale an application to handle larger workloads by taking advantage of additional processing power and resources on multicore systems.\n",
    "\n",
    "* Disadvantages of Multithreading:\n",
    "\n",
    "Complexity: Multithreaded programs are often more complex and harder to develop and debug than single-threaded programs. This is due to the need to manage synchronization, race conditions, deadlocks, and other concurrency-related issues.\n",
    "\n",
    "Overhead: Multithreading introduces additional overhead in terms of context switching, synchronization, and communication between threads. This can reduce performance and increase the risk of contention for shared resources.\n",
    "\n",
    "Synchronization: Synchronizing access to shared resources can be difficult and error-prone, leading to issues such as deadlocks and livelocks. This can be especially challenging in large, complex systems with many interacting threads.\n",
    "\n",
    "Portability: Multithreading can be difficult to implement and debug on different operating systems and hardware platforms, due to differences in thread scheduling, synchronization primitives, and other system-level factors."
   ]
  },
  {
   "cell_type": "markdown",
   "id": "49cb6239-e50a-4aea-8a7f-2801258c0152",
   "metadata": {},
   "source": [
    "# Q6:-  Explain deadlocks and race conditions."
   ]
  },
  {
   "cell_type": "markdown",
   "id": "60dcbb3d-1a1f-4bf8-971a-d917efb67522",
   "metadata": {},
   "source": [
    "Ans 6:- Deadlocks and race conditions are two common types of concurrency issues that can occur in multithreaded programs.  \n",
    "\n",
    "* Deadlocks occur when two or more threads are blocked and waiting for each other to release resources they are holding, resulting in a situation where none of the threads can proceed. This can happen when two or more threads hold locks on resources that each other needs, or when a thread tries to acquire multiple locks in a different order than another thread. Deadlocks can cause programs to become unresponsive and require manual intervention to resolve.\n",
    "\n",
    "For example, consider two threads, Thread A and Thread B, both trying to acquire two locks, Lock 1 and Lock 2, in opposite orders:\n",
    "\n",
    "Thread A:\n",
    "\n",
    "Acquires Lock 1\n",
    "Waits for Lock 2\n",
    "Thread B:\n",
    "\n",
    "Acquires Lock 2\n",
    "Waits for Lock 1\n",
    "In this scenario, both threads are blocked waiting for the other to release the lock they need, resulting in a deadlock.\n",
    "\n",
    "* Race conditions occur when two or more threads access shared resources concurrently and the final result depends on the order of execution of the threads. This can lead to unpredictable behavior and incorrect results. Race conditions can occur when threads do not synchronize access to shared resources, or when one thread assumes a certain state of the system while another thread changes that state.\n",
    "\n",
    "For example, consider two threads, Thread A and Thread B, both trying to increment a shared counter variable:\n",
    "\n",
    "Thread A:\n",
    "\n",
    "Reads the counter value as 5\n",
    "Increments the counter to 6\n",
    "Thread B:\n",
    "\n",
    "Reads the counter value as 5\n",
    "Increments the counter to 6\n",
    "\n",
    "In this scenario, both threads read the counter value as 5, and then increment it to 6, resulting in a final value of 6 instead of the expected value of 7. This is because the threads did not synchronize access to the counter variable, resulting in a race condition.\n",
    "\n"
   ]
  },
  {
   "cell_type": "markdown",
   "id": "e74c67cd-3500-49a6-be45-e8b5cf3f4b1c",
   "metadata": {},
   "source": [
    "# <Center> End of Assignment"
   ]
  },
  {
   "cell_type": "code",
   "execution_count": null,
   "id": "d6efd8e8-5295-4901-a438-3daf00c52956",
   "metadata": {},
   "outputs": [],
   "source": []
  }
 ],
 "metadata": {
  "kernelspec": {
   "display_name": "Python 3 (ipykernel)",
   "language": "python",
   "name": "python3"
  },
  "language_info": {
   "codemirror_mode": {
    "name": "ipython",
    "version": 3
   },
   "file_extension": ".py",
   "mimetype": "text/x-python",
   "name": "python",
   "nbconvert_exporter": "python",
   "pygments_lexer": "ipython3",
   "version": "3.10.8"
  }
 },
 "nbformat": 4,
 "nbformat_minor": 5
}
